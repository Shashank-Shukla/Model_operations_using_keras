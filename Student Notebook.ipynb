{
 "cells": [
  {
   "cell_type": "markdown",
   "metadata": {},
   "source": [
    "# Save, Load and Export Models in Keras"
   ]
  },
  {
   "cell_type": "markdown",
   "metadata": {},
   "source": [
    "## Task 1: Import Libraries"
   ]
  },
  {
   "cell_type": "code",
   "execution_count": 1,
   "metadata": {},
   "outputs": [
    {
     "name": "stdout",
     "output_type": "stream",
     "text": [
      "This notebook works with TensorFlow version: 2.0.1\n",
      "['.ipynb_checkpoints', 'models', 'model_name', 'Student Notebook.ipynb', 'tmp', 'weights']\n"
     ]
    }
   ],
   "source": [
    "import tensorflow as tf\n",
    "import numpy as np\n",
    "import os\n",
    "\n",
    "print('This notebook works with TensorFlow version:', tf.__version__)\n",
    "\n",
    "folders = ['tmp', 'models', 'model_name', 'weights']\n",
    "for folder in folders:\n",
    "    if not os.path.isdir(folder):\n",
    "        os.mkdir(folder)\n",
    "\n",
    "print(os.listdir('.'))"
   ]
  },
  {
   "cell_type": "markdown",
   "metadata": {},
   "source": [
    "## Task 2: Create Model"
   ]
  },
  {
   "cell_type": "code",
   "execution_count": 2,
   "metadata": {},
   "outputs": [],
   "source": [
    "def create_model():\n",
    "    # 1st layer is mnist dataset\n",
    "    # 3rd layer is output layer with 10 classes\n",
    "    model = tf.keras.models.Sequential([tf.keras.layers.Dense(128, activation='relu', input_shape=(784,)),\n",
    "                                      tf.keras.layers.Dense(128, activation='relu'),\n",
    "                                      tf.keras.layers.Dense(10,activation='softmax')])\n",
    "    model.compile(loss='categorical_crossentropy', optimizer='adam', metrics=['acc'])\n",
    "    return model\n"
   ]
  },
  {
   "cell_type": "code",
   "execution_count": 3,
   "metadata": {},
   "outputs": [
    {
     "name": "stdout",
     "output_type": "stream",
     "text": [
      "Model: \"sequential\"\n",
      "_________________________________________________________________\n",
      "Layer (type)                 Output Shape              Param #   \n",
      "=================================================================\n",
      "dense (Dense)                (None, 128)               100480    \n",
      "_________________________________________________________________\n",
      "dense_1 (Dense)              (None, 128)               16512     \n",
      "_________________________________________________________________\n",
      "dense_2 (Dense)              (None, 10)                1290      \n",
      "=================================================================\n",
      "Total params: 118,282\n",
      "Trainable params: 118,282\n",
      "Non-trainable params: 0\n",
      "_________________________________________________________________\n"
     ]
    }
   ],
   "source": [
    "model = create_model()\n",
    "model.summary()"
   ]
  },
  {
   "cell_type": "markdown",
   "metadata": {},
   "source": [
    "## Task 3: Data Preprocessing"
   ]
  },
  {
   "cell_type": "code",
   "execution_count": 4,
   "metadata": {},
   "outputs": [],
   "source": [
    "# load the data\n",
    "(x_train, y_train), (x_test, y_test) = tf.keras.datasets.fashion_mnist.load_data()\n",
    "x_train = np.reshape(x_train, (x_train.shape[0], 784))/255.\n",
    "x_test = np.reshape(x_test, (x_test.shape[0], 784))/255.\n",
    "\n",
    "# one-hot encoding the lables\n",
    "y_train = tf.keras.utils.to_categorical(y_train)\n",
    "y_test = tf.keras.utils.to_categorical(y_test)\n"
   ]
  },
  {
   "cell_type": "markdown",
   "metadata": {},
   "source": [
    "## Task 4: Model Checkpoint During Training"
   ]
  },
  {
   "cell_type": "code",
   "execution_count": 5,
   "metadata": {},
   "outputs": [
    {
     "name": "stdout",
     "output_type": "stream",
     "text": [
      "Train on 60000 samples, validate on 10000 samples\n",
      "Epoch 1/50\n",
      "60000/60000 [==============================] - 3s 44us/sample - loss: 0.6813 - acc: 0.7667 - val_loss: 0.4964 - val_acc: 0.8244\n",
      "Epoch 2/50\n",
      "60000/60000 [==============================] - 2s 34us/sample - loss: 0.4376 - acc: 0.8467 - val_loss: 0.4243 - val_acc: 0.8528\n",
      "Epoch 3/50\n",
      "60000/60000 [==============================] - 2s 38us/sample - loss: 0.3918 - acc: 0.8619 - val_loss: 0.3993 - val_acc: 0.8605\n",
      "Epoch 4/50\n",
      "60000/60000 [==============================] - 2s 40us/sample - loss: 0.3602 - acc: 0.8723 - val_loss: 0.3867 - val_acc: 0.8639\n",
      "Epoch 5/50\n",
      "60000/60000 [==============================] - 2s 35us/sample - loss: 0.3393 - acc: 0.8792 - val_loss: 0.3758 - val_acc: 0.8672\n",
      "Epoch 6/50\n",
      "60000/60000 [==============================] - 2s 31us/sample - loss: 0.3191 - acc: 0.8850 - val_loss: 0.3988 - val_acc: 0.8598\n",
      "Epoch 7/50\n",
      "60000/60000 [==============================] - 2s 32us/sample - loss: 0.3094 - acc: 0.8888 - val_loss: 0.3460 - val_acc: 0.8767\n",
      "Epoch 8/50\n",
      "60000/60000 [==============================] - 2s 34us/sample - loss: 0.2946 - acc: 0.8932 - val_loss: 0.3508 - val_acc: 0.8728\n",
      "Epoch 9/50\n",
      "60000/60000 [==============================] - 2s 31us/sample - loss: 0.2864 - acc: 0.8965 - val_loss: 0.3647 - val_acc: 0.8714\n",
      "Epoch 10/50\n",
      "60000/60000 [==============================] - 2s 34us/sample - loss: 0.2770 - acc: 0.8996 - val_loss: 0.3715 - val_acc: 0.8690\n",
      "Epoch 11/50\n",
      "60000/60000 [==============================] - 2s 32us/sample - loss: 0.2705 - acc: 0.9013 - val_loss: 0.3316 - val_acc: 0.8830\n",
      "Epoch 12/50\n",
      "60000/60000 [==============================] - 2s 34us/sample - loss: 0.2630 - acc: 0.9035 - val_loss: 0.3464 - val_acc: 0.8773\n",
      "Epoch 13/50\n",
      "60000/60000 [==============================] - 2s 31us/sample - loss: 0.2539 - acc: 0.9068 - val_loss: 0.3519 - val_acc: 0.8748\n",
      "Epoch 14/50\n",
      "60000/60000 [==============================] - 2s 32us/sample - loss: 0.2449 - acc: 0.9101 - val_loss: 0.3245 - val_acc: 0.8847\n",
      "Epoch 15/50\n",
      "60000/60000 [==============================] - 2s 36us/sample - loss: 0.2406 - acc: 0.9117 - val_loss: 0.3533 - val_acc: 0.8763\n",
      "Epoch 16/50\n",
      "60000/60000 [==============================] - 2s 33us/sample - loss: 0.2416 - acc: 0.9108 - val_loss: 0.3359 - val_acc: 0.8827\n",
      "Epoch 17/50\n",
      "60000/60000 [==============================] - 2s 32us/sample - loss: 0.2288 - acc: 0.9159 - val_loss: 0.3432 - val_acc: 0.8834\n",
      "Epoch 18/50\n",
      "60000/60000 [==============================] - 2s 33us/sample - loss: 0.2247 - acc: 0.9171 - val_loss: 0.3445 - val_acc: 0.8773\n",
      "Epoch 19/50\n",
      "60000/60000 [==============================] - 2s 36us/sample - loss: 0.2207 - acc: 0.9183 - val_loss: 0.3349 - val_acc: 0.8852\n",
      "Epoch 20/50\n",
      "60000/60000 [==============================] - 2s 36us/sample - loss: 0.2163 - acc: 0.9204 - val_loss: 0.3289 - val_acc: 0.8852\n",
      "Epoch 21/50\n",
      "60000/60000 [==============================] - 2s 32us/sample - loss: 0.2145 - acc: 0.9207 - val_loss: 0.3459 - val_acc: 0.8807\n",
      "Epoch 22/50\n",
      "60000/60000 [==============================] - 2s 33us/sample - loss: 0.2105 - acc: 0.9213 - val_loss: 0.3368 - val_acc: 0.8843\n",
      "Epoch 23/50\n",
      "60000/60000 [==============================] - 2s 33us/sample - loss: 0.2020 - acc: 0.9246 - val_loss: 0.3271 - val_acc: 0.8894\n",
      "Epoch 24/50\n",
      "60000/60000 [==============================] - 2s 36us/sample - loss: 0.1971 - acc: 0.9270 - val_loss: 0.3303 - val_acc: 0.8891\n",
      "Epoch 25/50\n",
      "60000/60000 [==============================] - 2s 32us/sample - loss: 0.2019 - acc: 0.9248 - val_loss: 0.3483 - val_acc: 0.8838\n",
      "Epoch 26/50\n",
      "60000/60000 [==============================] - 2s 33us/sample - loss: 0.1881 - acc: 0.9310 - val_loss: 0.3307 - val_acc: 0.8868\n",
      "Epoch 27/50\n",
      "60000/60000 [==============================] - 2s 33us/sample - loss: 0.1860 - acc: 0.9312 - val_loss: 0.3385 - val_acc: 0.8825835 - \n",
      "Epoch 28/50\n",
      "60000/60000 [==============================] - 2s 33us/sample - loss: 0.1829 - acc: 0.9317 - val_loss: 0.3436 - val_acc: 0.8831\n",
      "Epoch 29/50\n",
      "60000/60000 [==============================] - 2s 33us/sample - loss: 0.1810 - acc: 0.9333 - val_loss: 0.3329 - val_acc: 0.8858\n",
      "Epoch 30/50\n",
      "60000/60000 [==============================] - 2s 34us/sample - loss: 0.1770 - acc: 0.9343 - val_loss: 0.3469 - val_acc: 0.8853\n",
      "Epoch 31/50\n",
      "60000/60000 [==============================] - 2s 34us/sample - loss: 0.1720 - acc: 0.9362 - val_loss: 0.3581 - val_acc: 0.8866\n",
      "Epoch 32/50\n",
      "60000/60000 [==============================] - 2s 33us/sample - loss: 0.1707 - acc: 0.9362 - val_loss: 0.3568 - val_acc: 0.8841\n",
      "Epoch 33/50\n",
      "60000/60000 [==============================] - 2s 33us/sample - loss: 0.1631 - acc: 0.9395 - val_loss: 0.3476 - val_acc: 0.8866\n",
      "Epoch 34/50\n",
      "60000/60000 [==============================] - 2s 35us/sample - loss: 0.1608 - acc: 0.9406 - val_loss: 0.3538 - val_acc: 0.8872\n",
      "Epoch 35/50\n",
      "60000/60000 [==============================] - 2s 34us/sample - loss: 0.1586 - acc: 0.9416 - val_loss: 0.3560 - val_acc: 0.8852\n",
      "Epoch 36/50\n",
      "60000/60000 [==============================] - 2s 34us/sample - loss: 0.1524 - acc: 0.9436 - val_loss: 0.3613 - val_acc: 0.8844\n",
      "Epoch 37/50\n",
      "60000/60000 [==============================] - 2s 35us/sample - loss: 0.1550 - acc: 0.9429 - val_loss: 0.3709 - val_acc: 0.8872\n",
      "Epoch 38/50\n",
      "60000/60000 [==============================] - 2s 35us/sample - loss: 0.1524 - acc: 0.9442 - val_loss: 0.3510 - val_acc: 0.8879\n",
      "Epoch 39/50\n",
      "60000/60000 [==============================] - 2s 35us/sample - loss: 0.1478 - acc: 0.9461 - val_loss: 0.3532 - val_acc: 0.8894\n",
      "Epoch 40/50\n",
      "60000/60000 [==============================] - 2s 34us/sample - loss: 0.1409 - acc: 0.9477 - val_loss: 0.3615 - val_acc: 0.8876\n",
      "Epoch 41/50\n",
      "60000/60000 [==============================] - 2s 35us/sample - loss: 0.1375 - acc: 0.9492 - val_loss: 0.3738 - val_acc: 0.8857\n",
      "Epoch 42/50\n",
      "60000/60000 [==============================] - 2s 35us/sample - loss: 0.1326 - acc: 0.9517 - val_loss: 0.3651 - val_acc: 0.8885\n",
      "Epoch 43/50\n",
      "60000/60000 [==============================] - 2s 35us/sample - loss: 0.1336 - acc: 0.9513 - val_loss: 0.3896 - val_acc: 0.8835\n",
      "Epoch 44/50\n",
      "60000/60000 [==============================] - 2s 35us/sample - loss: 0.1311 - acc: 0.9514 - val_loss: 0.3783 - val_acc: 0.8879\n",
      "Epoch 45/50\n",
      "60000/60000 [==============================] - 2s 35us/sample - loss: 0.1293 - acc: 0.9519 - val_loss: 0.3891 - val_acc: 0.8865\n",
      "Epoch 46/50\n",
      "60000/60000 [==============================] - 2s 40us/sample - loss: 0.1245 - acc: 0.9545 - val_loss: 0.3746 - val_acc: 0.8906\n",
      "Epoch 47/50\n",
      "60000/60000 [==============================] - 2s 38us/sample - loss: 0.1231 - acc: 0.9552 - val_loss: 0.3893 - val_acc: 0.8881\n",
      "Epoch 48/50\n",
      "60000/60000 [==============================] - 2s 36us/sample - loss: 0.1176 - acc: 0.9564 - val_loss: 0.4134 - val_acc: 0.8835\n",
      "Epoch 49/50\n",
      "60000/60000 [==============================] - 2s 36us/sample - loss: 0.1166 - acc: 0.9574 - val_loss: 0.4070 - val_acc: 0.8883\n",
      "Epoch 50/50\n",
      "60000/60000 [==============================] - 2s 35us/sample - loss: 0.1156 - acc: 0.9573 - val_loss: 0.4014 - val_acc: 0.8879\n"
     ]
    }
   ],
   "source": [
    "# We can save model weights using model checkpoint callbacks\n",
    "checkpoint_dir = 'weights/'\n",
    "epochs=50\n",
    "batch_size=512\n",
    "# callbacks allow us to do model checkpoint during training\n",
    "# Weights are saved as .h5 format\n",
    "callbacks=[tf.keras.callbacks.ModelCheckpoint(os.path.join(checkpoint_dir,'epoch_{epoch:02d}_acc_{val_acc:.2f}'),monitor='val_acc', save_weights_only=True, save_best_only=True)]\n",
    "# save_weights_only saves model weights only and not model architecture\n",
    "_ = model.fit(x_train,y_train, validation_data=(x_test,y_test), epochs=epochs, batch_size=batch_size, callbacks=callbacks)\n"
   ]
  },
  {
   "cell_type": "code",
   "execution_count": 6,
   "metadata": {},
   "outputs": [
    {
     "data": {
      "text/plain": [
       "['checkpoint',\n",
       " 'epoch_01_acc_0.82.data-00000-of-00001',\n",
       " 'epoch_01_acc_0.82.index',\n",
       " 'epoch_01_acc_0.83.data-00000-of-00001',\n",
       " 'epoch_01_acc_0.83.index',\n",
       " 'epoch_02_acc_0.84.data-00000-of-00001',\n",
       " 'epoch_02_acc_0.84.index',\n",
       " 'epoch_02_acc_0.85.data-00000-of-00001',\n",
       " 'epoch_02_acc_0.85.index',\n",
       " 'epoch_03_acc_0.85.data-00000-of-00001',\n",
       " 'epoch_03_acc_0.85.index',\n",
       " 'epoch_03_acc_0.86.data-00000-of-00001',\n",
       " 'epoch_03_acc_0.86.index',\n",
       " 'epoch_04_acc_0.86.data-00000-of-00001',\n",
       " 'epoch_04_acc_0.86.index',\n",
       " 'epoch_05_acc_0.87.data-00000-of-00001',\n",
       " 'epoch_05_acc_0.87.index',\n",
       " 'epoch_06_acc_0.87.data-00000-of-00001',\n",
       " 'epoch_06_acc_0.87.index',\n",
       " 'epoch_07_acc_0.87.data-00000-of-00001',\n",
       " 'epoch_07_acc_0.87.index',\n",
       " 'epoch_07_acc_0.88.data-00000-of-00001',\n",
       " 'epoch_07_acc_0.88.index',\n",
       " 'epoch_09_acc_0.88.data-00000-of-00001',\n",
       " 'epoch_09_acc_0.88.index',\n",
       " 'epoch_10_acc_0.88.data-00000-of-00001',\n",
       " 'epoch_10_acc_0.88.index',\n",
       " 'epoch_11_acc_0.88.data-00000-of-00001',\n",
       " 'epoch_11_acc_0.88.index',\n",
       " 'epoch_12_acc_0.88.data-00000-of-00001',\n",
       " 'epoch_12_acc_0.88.index',\n",
       " 'epoch_14_acc_0.88.data-00000-of-00001',\n",
       " 'epoch_14_acc_0.88.index',\n",
       " 'epoch_18_acc_0.89.data-00000-of-00001',\n",
       " 'epoch_18_acc_0.89.index',\n",
       " 'epoch_19_acc_0.89.data-00000-of-00001',\n",
       " 'epoch_19_acc_0.89.index',\n",
       " 'epoch_20_acc_0.89.data-00000-of-00001',\n",
       " 'epoch_20_acc_0.89.index',\n",
       " 'epoch_23_acc_0.89.data-00000-of-00001',\n",
       " 'epoch_23_acc_0.89.index',\n",
       " 'epoch_46_acc_0.89.data-00000-of-00001',\n",
       " 'epoch_46_acc_0.89.index']"
      ]
     },
     "execution_count": 6,
     "metadata": {},
     "output_type": "execute_result"
    }
   ],
   "source": [
    "os.listdir(checkpoint_dir)"
   ]
  },
  {
   "cell_type": "markdown",
   "metadata": {},
   "source": [
    "## Task 5: Load Weights"
   ]
  },
  {
   "cell_type": "code",
   "execution_count": 7,
   "metadata": {},
   "outputs": [
    {
     "name": "stdout",
     "output_type": "stream",
     "text": [
      "[2.3207738800048827, 0.114]\n"
     ]
    }
   ],
   "source": [
    "# Create a blank instance [random weights]->untrained model\n",
    "model = create_model()\n",
    "print(model.evaluate(x_test, y_test, verbose=False))"
   ]
  },
  {
   "cell_type": "code",
   "execution_count": 8,
   "metadata": {},
   "outputs": [
    {
     "name": "stdout",
     "output_type": "stream",
     "text": [
      "[0.3184475895166397, 0.8908]\n"
     ]
    }
   ],
   "source": [
    "# Don't load the data file, load the index file and remove .index from the path\n",
    "model.load_weights('weights/epoch_20_acc_0.89')\n",
    "print(model.evaluate(x_test, y_test, verbose=False))"
   ]
  },
  {
   "cell_type": "markdown",
   "metadata": {},
   "source": [
    "## Task 6: Saving Complete Model During Training"
   ]
  },
  {
   "cell_type": "code",
   "execution_count": 9,
   "metadata": {},
   "outputs": [
    {
     "name": "stdout",
     "output_type": "stream",
     "text": [
      "Train on 60000 samples, validate on 10000 samples\n",
      "Epoch 1/50\n"
     ]
    },
    {
     "name": "stderr",
     "output_type": "stream",
     "text": [
      "WARNING: Logging before flag parsing goes to stderr.\n",
      "W0807 11:06:00.678913  3420 util.py:144] Unresolved object in checkpoint: (root).optimizer.iter\n",
      "W0807 11:06:00.679914  3420 util.py:144] Unresolved object in checkpoint: (root).optimizer.beta_1\n",
      "W0807 11:06:00.681906  3420 util.py:144] Unresolved object in checkpoint: (root).optimizer.beta_2\n",
      "W0807 11:06:00.686905  3420 util.py:144] Unresolved object in checkpoint: (root).optimizer.decay\n",
      "W0807 11:06:00.688913  3420 util.py:144] Unresolved object in checkpoint: (root).optimizer.learning_rate\n",
      "W0807 11:06:00.691909  3420 util.py:152] A checkpoint was restored (e.g. tf.train.Checkpoint.restore or tf.keras.Model.load_weights) but not all checkpointed values were used. See above for specific issues. Use expect_partial() on the load status object, e.g. tf.train.Checkpoint.restore(...).expect_partial(), to silence these warnings, or use assert_consumed() to make the check explicit. See https://www.tensorflow.org/alpha/guide/checkpoints#loading_mechanics for details.\n"
     ]
    },
    {
     "name": "stdout",
     "output_type": "stream",
     "text": [
      "60000/60000 [==============================] - 3s 45us/sample - loss: 0.6706 - acc: 0.7723 - val_loss: 0.4915 - val_acc: 0.8286\n",
      "Epoch 2/50\n",
      "60000/60000 [==============================] - 2s 32us/sample - loss: 0.4277 - acc: 0.8509 - val_loss: 0.4256 - val_acc: 0.8487\n",
      "Epoch 3/50\n",
      "60000/60000 [==============================] - 2s 33us/sample - loss: 0.3890 - acc: 0.8618 - val_loss: 0.4073 - val_acc: 0.8521\n",
      "Epoch 4/50\n",
      "60000/60000 [==============================] - 2s 34us/sample - loss: 0.3541 - acc: 0.8741 - val_loss: 0.3834 - val_acc: 0.8649\n",
      "Epoch 5/50\n",
      "60000/60000 [==============================] - 2s 35us/sample - loss: 0.3331 - acc: 0.8799 - val_loss: 0.3723 - val_acc: 0.8658\n",
      "Epoch 6/50\n",
      "60000/60000 [==============================] - 2s 35us/sample - loss: 0.3165 - acc: 0.8853 - val_loss: 0.3796 - val_acc: 0.8656\n",
      "Epoch 7/50\n",
      "60000/60000 [==============================] - 2s 35us/sample - loss: 0.3105 - acc: 0.8878 - val_loss: 0.3592 - val_acc: 0.8723\n",
      "Epoch 8/50\n",
      "60000/60000 [==============================] - 2s 35us/sample - loss: 0.2959 - acc: 0.8909 - val_loss: 0.3464 - val_acc: 0.8757\n",
      "Epoch 9/50\n",
      "60000/60000 [==============================] - 2s 38us/sample - loss: 0.2828 - acc: 0.8973 - val_loss: 0.3470 - val_acc: 0.8769\n",
      "Epoch 10/50\n",
      "60000/60000 [==============================] - 2s 34us/sample - loss: 0.2785 - acc: 0.8974 - val_loss: 0.3512 - val_acc: 0.8740\n",
      "Epoch 11/50\n",
      "60000/60000 [==============================] - 2s 38us/sample - loss: 0.2658 - acc: 0.9023 - val_loss: 0.3348 - val_acc: 0.8779\n",
      "Epoch 12/50\n",
      "60000/60000 [==============================] - 2s 35us/sample - loss: 0.2594 - acc: 0.9038 - val_loss: 0.3537 - val_acc: 0.8766\n",
      "Epoch 13/50\n",
      "60000/60000 [==============================] - 2s 35us/sample - loss: 0.2559 - acc: 0.9053 - val_loss: 0.3282 - val_acc: 0.8821\n",
      "Epoch 14/50\n",
      "60000/60000 [==============================] - 2s 36us/sample - loss: 0.2454 - acc: 0.9096 - val_loss: 0.3232 - val_acc: 0.8866\n",
      "Epoch 15/50\n",
      "60000/60000 [==============================] - 2s 36us/sample - loss: 0.2421 - acc: 0.9119 - val_loss: 0.3230 - val_acc: 0.8820\n",
      "Epoch 16/50\n",
      "60000/60000 [==============================] - 2s 38us/sample - loss: 0.2312 - acc: 0.9148 - val_loss: 0.3334 - val_acc: 0.8814\n",
      "Epoch 17/50\n",
      "60000/60000 [==============================] - 3s 42us/sample - loss: 0.2288 - acc: 0.9156 - val_loss: 0.3328 - val_acc: 0.8827\n",
      "Epoch 18/50\n",
      "60000/60000 [==============================] - 2s 36us/sample - loss: 0.2264 - acc: 0.9157 - val_loss: 0.3256 - val_acc: 0.8853\n",
      "Epoch 19/50\n",
      "60000/60000 [==============================] - 2s 36us/sample - loss: 0.2161 - acc: 0.9208 - val_loss: 0.3166 - val_acc: 0.8884\n",
      "Epoch 20/50\n",
      "60000/60000 [==============================] - 2s 36us/sample - loss: 0.2142 - acc: 0.9215 - val_loss: 0.3251 - val_acc: 0.8880\n",
      "Epoch 21/50\n",
      "60000/60000 [==============================] - 3s 43us/sample - loss: 0.2071 - acc: 0.9242 - val_loss: 0.3234 - val_acc: 0.8888\n",
      "Epoch 22/50\n",
      "60000/60000 [==============================] - 2s 37us/sample - loss: 0.2028 - acc: 0.9259 - val_loss: 0.3214 - val_acc: 0.8883\n",
      "Epoch 23/50\n",
      "60000/60000 [==============================] - 2s 38us/sample - loss: 0.1994 - acc: 0.9274 - val_loss: 0.3631 - val_acc: 0.8765\n",
      "Epoch 24/50\n",
      "60000/60000 [==============================] - 2s 41us/sample - loss: 0.1970 - acc: 0.9273 - val_loss: 0.3197 - val_acc: 0.8916\n",
      "Epoch 25/50\n",
      "60000/60000 [==============================] - 2s 41us/sample - loss: 0.1884 - acc: 0.9312 - val_loss: 0.3182 - val_acc: 0.8911\n",
      "Epoch 26/50\n",
      "60000/60000 [==============================] - 2s 39us/sample - loss: 0.1814 - acc: 0.9327 - val_loss: 0.3352 - val_acc: 0.8856\n",
      "Epoch 27/50\n",
      "60000/60000 [==============================] - 2s 40us/sample - loss: 0.1812 - acc: 0.9329 - val_loss: 0.3256 - val_acc: 0.8897\n",
      "Epoch 28/50\n",
      "60000/60000 [==============================] - 2s 39us/sample - loss: 0.1741 - acc: 0.9362 - val_loss: 0.3420 - val_acc: 0.8837\n",
      "Epoch 29/50\n",
      "60000/60000 [==============================] - 2s 39us/sample - loss: 0.1705 - acc: 0.9372 - val_loss: 0.3263 - val_acc: 0.8906\n",
      "Epoch 30/50\n",
      "60000/60000 [==============================] - 2s 40us/sample - loss: 0.1695 - acc: 0.9379 - val_loss: 0.3502 - val_acc: 0.8831\n",
      "Epoch 31/50\n",
      "60000/60000 [==============================] - 2s 42us/sample - loss: 0.1645 - acc: 0.9394 - val_loss: 0.3414 - val_acc: 0.8873\n",
      "Epoch 32/50\n",
      "60000/60000 [==============================] - 2s 39us/sample - loss: 0.1594 - acc: 0.9416 - val_loss: 0.3408 - val_acc: 0.8899\n",
      "Epoch 33/50\n",
      "60000/60000 [==============================] - 2s 40us/sample - loss: 0.1536 - acc: 0.9441 - val_loss: 0.3557 - val_acc: 0.8874\n",
      "Epoch 34/50\n",
      "60000/60000 [==============================] - 3s 42us/sample - loss: 0.1537 - acc: 0.9436 - val_loss: 0.3767 - val_acc: 0.8871\n",
      "Epoch 35/50\n",
      "60000/60000 [==============================] - 2s 40us/sample - loss: 0.1521 - acc: 0.9438 - val_loss: 0.3547 - val_acc: 0.8857\n",
      "Epoch 36/50\n",
      "60000/60000 [==============================] - 2s 39us/sample - loss: 0.1464 - acc: 0.9462 - val_loss: 0.3562 - val_acc: 0.8880\n",
      "Epoch 37/50\n",
      "60000/60000 [==============================] - 2s 41us/sample - loss: 0.1423 - acc: 0.9484 - val_loss: 0.4043 - val_acc: 0.8710\n",
      "Epoch 38/50\n",
      "60000/60000 [==============================] - 2s 40us/sample - loss: 0.1416 - acc: 0.9480 - val_loss: 0.3616 - val_acc: 0.8884\n",
      "Epoch 39/50\n",
      "60000/60000 [==============================] - 2s 41us/sample - loss: 0.1378 - acc: 0.9495 - val_loss: 0.3602 - val_acc: 0.8894\n",
      "Epoch 40/50\n",
      "60000/60000 [==============================] - 3s 42us/sample - loss: 0.1313 - acc: 0.9524 - val_loss: 0.3719 - val_acc: 0.8889\n",
      "Epoch 41/50\n",
      "60000/60000 [==============================] - 3s 42us/sample - loss: 0.1347 - acc: 0.9508 - val_loss: 0.3768 - val_acc: 0.8877\n",
      "Epoch 42/50\n",
      "60000/60000 [==============================] - 2s 41us/sample - loss: 0.1315 - acc: 0.9510 - val_loss: 0.3816 - val_acc: 0.8825\n",
      "Epoch 43/50\n",
      "60000/60000 [==============================] - 3s 43us/sample - loss: 0.1268 - acc: 0.9528 - val_loss: 0.3701 - val_acc: 0.8900\n",
      "Epoch 44/50\n",
      "60000/60000 [==============================] - 2s 40us/sample - loss: 0.1227 - acc: 0.9543 - val_loss: 0.3839 - val_acc: 0.8833\n",
      "Epoch 45/50\n",
      "60000/60000 [==============================] - 3s 47us/sample - loss: 0.1185 - acc: 0.9556 - val_loss: 0.3868 - val_acc: 0.8859\n",
      "Epoch 46/50\n",
      "60000/60000 [==============================] - 3s 47us/sample - loss: 0.1183 - acc: 0.9569 - val_loss: 0.3912 - val_acc: 0.8884\n",
      "Epoch 47/50\n",
      "60000/60000 [==============================] - 3s 51us/sample - loss: 0.1192 - acc: 0.9563 - val_loss: 0.4001 - val_acc: 0.8835\n",
      "Epoch 48/50\n",
      "60000/60000 [==============================] - 3s 46us/sample - loss: 0.1176 - acc: 0.9572 - val_loss: 0.3810 - val_acc: 0.8896\n",
      "Epoch 49/50\n",
      "60000/60000 [==============================] - 3s 42us/sample - loss: 0.1119 - acc: 0.9585 - val_loss: 0.3831 - val_acc: 0.8917\n",
      "Epoch 50/50\n",
      "60000/60000 [==============================] - 3s 42us/sample - loss: 0.1105 - acc: 0.9593 - val_loss: 0.3993 - val_acc: 0.8906\n"
     ]
    }
   ],
   "source": [
    "checkpoint_model_dir = 'models/'\n",
    "epochs=50\n",
    "batch_size=512\n",
    "\n",
    "# Let's initialize a fresh instance of the model [untrained model]\n",
    "model=create_model()\n",
    "# Weights can be saved in any format, preferrably .h5\n",
    "callbacks=[tf.keras.callbacks.ModelCheckpoint(os.path.join(checkpoint_model_dir,\n",
    "                                                           'epoch_{epoch:02d}_acc_{val_acc:.2f}.h5'),\n",
    "                                              monitor='val_acc', \n",
    "                                              save_weights_only=False, \n",
    "                                              save_best_only=True)]\n",
    "# save_weights_only=False saves model weights with model architecture\n",
    "_ = model.fit(x_train,y_train, validation_data=(x_test,y_test), epochs=epochs, batch_size=batch_size, callbacks=callbacks)\n"
   ]
  },
  {
   "cell_type": "code",
   "execution_count": 10,
   "metadata": {},
   "outputs": [
    {
     "data": {
      "text/plain": [
       "['epoch_01_acc_0.83.h5',\n",
       " 'epoch_02_acc_0.85.h5',\n",
       " 'epoch_03_acc_0.85.h5',\n",
       " 'epoch_04_acc_0.86.h5',\n",
       " 'epoch_05_acc_0.87.h5',\n",
       " 'epoch_06_acc_0.87.h5',\n",
       " 'epoch_07_acc_0.87.h5',\n",
       " 'epoch_08_acc_0.87.h5',\n",
       " 'epoch_08_acc_0.88.h5',\n",
       " 'epoch_09_acc_0.88.h5',\n",
       " 'epoch_10_acc_0.88.h5',\n",
       " 'epoch_11_acc_0.88.h5',\n",
       " 'epoch_13_acc_0.88.h5',\n",
       " 'epoch_14_acc_0.89.h5',\n",
       " 'epoch_15_acc_0.89.h5',\n",
       " 'epoch_18_acc_0.89.h5',\n",
       " 'epoch_19_acc_0.89.h5',\n",
       " 'epoch_21_acc_0.89.h5',\n",
       " 'epoch_22_acc_0.89.h5',\n",
       " 'epoch_24_acc_0.89.h5',\n",
       " 'epoch_49_acc_0.89.h5']"
      ]
     },
     "execution_count": 10,
     "metadata": {},
     "output_type": "execute_result"
    }
   ],
   "source": [
    "os.listdir(checkpoint_model_dir)"
   ]
  },
  {
   "cell_type": "markdown",
   "metadata": {},
   "source": [
    "## Task 7: Load Models"
   ]
  },
  {
   "cell_type": "code",
   "execution_count": 11,
   "metadata": {},
   "outputs": [
    {
     "name": "stdout",
     "output_type": "stream",
     "text": [
      "[2.357931526565552, 0.1189]\n"
     ]
    }
   ],
   "source": [
    "# Create a fresh instance\n",
    "model=create_model()\n",
    "print(model.evaluate(x_test, y_test, verbose=False))"
   ]
  },
  {
   "cell_type": "code",
   "execution_count": 12,
   "metadata": {},
   "outputs": [
    {
     "name": "stdout",
     "output_type": "stream",
     "text": [
      "[0.32165690634250643, 0.8908]\n"
     ]
    }
   ],
   "source": [
    "model=tf.keras.models.load_model('models/epoch_22_acc_0.89.h5')\n",
    "print(model.evaluate(x_test, y_test, verbose=False))"
   ]
  },
  {
   "cell_type": "code",
   "execution_count": 13,
   "metadata": {},
   "outputs": [
    {
     "name": "stdout",
     "output_type": "stream",
     "text": [
      "Model: \"sequential_3\"\n",
      "_________________________________________________________________\n",
      "Layer (type)                 Output Shape              Param #   \n",
      "=================================================================\n",
      "dense_9 (Dense)              (None, 128)               100480    \n",
      "_________________________________________________________________\n",
      "dense_10 (Dense)             (None, 128)               16512     \n",
      "_________________________________________________________________\n",
      "dense_11 (Dense)             (None, 10)                1290      \n",
      "=================================================================\n",
      "Total params: 118,282\n",
      "Trainable params: 118,282\n",
      "Non-trainable params: 0\n",
      "_________________________________________________________________\n"
     ]
    }
   ],
   "source": [
    "model.summary()"
   ]
  },
  {
   "cell_type": "markdown",
   "metadata": {},
   "source": [
    "## Task 8: Manually Saving Weights and Models"
   ]
  },
  {
   "cell_type": "code",
   "execution_count": 14,
   "metadata": {},
   "outputs": [
    {
     "data": {
      "text/plain": [
       "['checkpoint',\n",
       " 'manually_saved.h5',\n",
       " 'manually_saved.w.data-00000-of-00001',\n",
       " 'manually_saved.w.index']"
      ]
     },
     "execution_count": 14,
     "metadata": {},
     "output_type": "execute_result"
    }
   ],
   "source": [
    "# Saving just the weights\n",
    "model.save_weights('tmp/manually_saved.w')\n",
    "os.listdir('tmp')"
   ]
  },
  {
   "cell_type": "code",
   "execution_count": 15,
   "metadata": {},
   "outputs": [
    {
     "data": {
      "text/plain": [
       "['checkpoint',\n",
       " 'manually_saved.h5',\n",
       " 'manually_saved.w.data-00000-of-00001',\n",
       " 'manually_saved.w.index']"
      ]
     },
     "execution_count": 15,
     "metadata": {},
     "output_type": "execute_result"
    }
   ],
   "source": [
    "# Saving an entire model\n",
    "model.save('tmp/manually_saved.h5')\n",
    "os.listdir('tmp')"
   ]
  },
  {
   "cell_type": "markdown",
   "metadata": {},
   "source": [
    "## Task 9: Exporting and Restoring SavedModel Format"
   ]
  },
  {
   "cell_type": "code",
   "execution_count": 16,
   "metadata": {},
   "outputs": [
    {
     "name": "stderr",
     "output_type": "stream",
     "text": [
      "W0807 11:08:01.284426  3420 deprecation.py:506] From c:\\users\\administrator\\appdata\\local\\programs\\python\\python36\\lib\\site-packages\\tensorflow_core\\python\\ops\\resource_variable_ops.py:1781: calling BaseResourceVariable.__init__ (from tensorflow.python.ops.resource_variable_ops) with constraint is deprecated and will be removed in a future version.\n",
      "Instructions for updating:\n",
      "If using Keras pass *_constraint arguments to layers.\n"
     ]
    },
    {
     "data": {
      "text/plain": [
       "['assets', 'saved_model.pb', 'variables']"
      ]
     },
     "execution_count": 16,
     "metadata": {},
     "output_type": "execute_result"
    }
   ],
   "source": [
    "# path name = model_name here\n",
    "model.save('model_name')\n",
    "os.listdir('model_name')"
   ]
  },
  {
   "cell_type": "code",
   "execution_count": 17,
   "metadata": {},
   "outputs": [
    {
     "name": "stdout",
     "output_type": "stream",
     "text": [
      "[0.32114194617271424, 0.8908]\n"
     ]
    }
   ],
   "source": [
    "# Bringing in the already saved model into keras-model\n",
    "model = tf.keras.models.load_model('model_name')\n",
    "print(model.evaluate(x_test,y_test, verbose=False))"
   ]
  },
  {
   "cell_type": "code",
   "execution_count": null,
   "metadata": {},
   "outputs": [],
   "source": []
  }
 ],
 "metadata": {
  "kernelspec": {
   "display_name": "Python 3",
   "language": "python",
   "name": "python3"
  },
  "language_info": {
   "codemirror_mode": {
    "name": "ipython",
    "version": 3
   },
   "file_extension": ".py",
   "mimetype": "text/x-python",
   "name": "python",
   "nbconvert_exporter": "python",
   "pygments_lexer": "ipython3",
   "version": "3.6.8"
  }
 },
 "nbformat": 4,
 "nbformat_minor": 2
}
